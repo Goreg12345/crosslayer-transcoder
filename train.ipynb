{
 "cells": [
  {
   "cell_type": "code",
   "execution_count": 1,
   "id": "26710f9f",
   "metadata": {},
   "outputs": [
    {
     "name": "stdout",
     "output_type": "stream",
     "text": [
      "CUDA available: True\n",
      "Number of GPUs: 1\n",
      "GPU 0: Tesla V100-PCIE-32GB\n"
     ]
    }
   ],
   "source": [
    "import os\n",
    "# select cuda 0\n",
    "os.environ[\"CUDA_VISIBLE_DEVICES\"] = \"1\"\n",
    "import torch\n",
    "\n",
    "# Check if CUDA is available\n",
    "cuda_available = torch.cuda.is_available()\n",
    "print(\"CUDA available:\", cuda_available)\n",
    "\n",
    "if cuda_available:\n",
    "    # Number of GPUs\n",
    "    num_gpus = torch.cuda.device_count()\n",
    "    print(\"Number of GPUs:\", num_gpus)\n",
    "\n",
    "    # List each device’s name\n",
    "    for i in range(num_gpus):\n",
    "        name = torch.cuda.get_device_name(i)\n",
    "        print(f\"GPU {i}: {name}\")\n",
    "else:\n",
    "    print(\"No CUDA devices found\")"
   ]
  },
  {
   "cell_type": "code",
   "execution_count": 2,
   "id": "17b618c5",
   "metadata": {},
   "outputs": [],
   "source": [
    "from buffer import DiscBuffer\n",
    "\n",
    "buffer = DiscBuffer('/var/local/glang/activations/clt-activations-10M.h5', 'tensor')\n",
    "\n",
    "loader = torch.utils.data.DataLoader(\n",
    "    buffer,\n",
    "    num_workers=20,\n",
    "    prefetch_factor=10,\n",
    "    batch_size=1000,\n",
    "    shuffle=True,\n",
    ")"
   ]
  },
  {
   "cell_type": "code",
   "execution_count": 7,
   "id": "ef9d69a6",
   "metadata": {},
   "outputs": [
    {
     "name": "stderr",
     "output_type": "stream",
     "text": [
      "Using default `ModelCheckpoint`. Consider installing `litmodels` package to enable `LitModelCheckpoint` for automatic upload to the Lightning model registry.\n"
     ]
    },
    {
     "name": "stderr",
     "output_type": "stream",
     "text": [
      "GPU available: True (cuda), used: True\n",
      "TPU available: False, using: 0 TPU cores\n",
      "HPU available: False, using: 0 HPUs\n",
      "/var/local/glang/crosslayer-transcoder/.venv/lib/python3.12/site-packages/lightning/pytorch/loggers/wandb.py:397: There is a wandb run already in progress and newly created instances of `WandbLogger` will reuse this run. If this is not desired, call `wandb.finish()` before instantiating `WandbLogger`.\n",
      "/var/local/glang/crosslayer-transcoder/.venv/lib/python3.12/site-packages/lightning/pytorch/callbacks/model_checkpoint.py:654: Checkpoint directory ./wandb_clt/9x7hnne0/checkpoints exists and is not empty.\n",
      "LOCAL_RANK: 0 - CUDA_VISIBLE_DEVICES: [1]\n",
      "\n",
      "  | Name         | Type | Params | Mode \n",
      "----------------------------------------------\n",
      "0 | relu         | ReLU | 0      | train\n",
      "  | other params | n/a  | 736 M  | n/a  \n",
      "----------------------------------------------\n",
      "736 M     Trainable params\n",
      "0         Non-trainable params\n",
      "736 M     Total params\n",
      "2,944.696 Total estimated model params size (MB)\n",
      "1         Modules in train mode\n",
      "0         Modules in eval mode\n"
     ]
    },
    {
     "name": "stdout",
     "output_type": "stream",
     "text": [
      "Epoch 0: 100%|██████████| 2000/2000 [22:49<00:00,  1.46it/s, v_num=nne0]"
     ]
    },
    {
     "name": "stderr",
     "output_type": "stream",
     "text": [
      "`Trainer.fit` stopped: `max_steps=2000` reached.\n"
     ]
    },
    {
     "name": "stdout",
     "output_type": "stream",
     "text": [
      "Epoch 0: 100%|██████████| 2000/2000 [23:42<00:00,  1.41it/s, v_num=nne0]\n"
     ]
    }
   ],
   "source": [
    "from lightning.pytorch.loggers import WandbLogger\n",
    "from clt import CrossLayerTranscoder\n",
    "import lightning.pytorch as L\n",
    "\n",
    "\n",
    "logger = WandbLogger(project='wandb_clt')\n",
    "trainer = L.Trainer(logger=logger, max_steps=2000, limit_train_batches=2000)\n",
    "trainer.fit(\n",
    "    model=CrossLayerTranscoder(config={\n",
    "        \"d_acts\": 768,\n",
    "        \"d_features\": 768 * 8,\n",
    "        \"n_layers\": 12,\n",
    "        \"bandwidth\": 1.,\n",
    "        \"lambda\": 0.0,\n",
    "        \"c\": 0.1,\n",
    "        \"jump_thresh\": 0.03,\n",
    "        \"lr\": 1e-3\n",
    "    }),\n",
    "    train_dataloaders=loader,\n",
    ")\n",
    "\n",
    "# Save checkpoint after training\n",
    "checkpoint_path = \"checkpoints/clsae.ckpt\"\n",
    "trainer.save_checkpoint(checkpoint_path)"
   ]
  },
  {
   "cell_type": "code",
   "execution_count": 4,
   "id": "d75c4026",
   "metadata": {},
   "outputs": [],
   "source": [
    "# load the saved model\n",
    "import torch\n",
    "\n",
    "\n"
   ]
  },
  {
   "cell_type": "code",
   "execution_count": 5,
   "id": "1e3179d2",
   "metadata": {},
   "outputs": [
    {
     "data": {
      "image/png": "[encoded data removed]",
      "text/plain": [
       "<Figure size 640x480 with 1 Axes>"
      ]
     },
     "metadata": {},
     "output_type": "display_data"
    }
   ],
   "source": [
    "def K(x):\n",
    "    return H(x + .5) - H(x - .5)\n",
    "\n",
    "def H(x):\n",
    "    return np.where(x > 0, np.ones_like(x), np.zeros_like(x))\n",
    "\n",
    "def derivative(x):\n",
    "    e = .5\n",
    "    theta = .5\n",
    "    return (-1/e) * K((x - theta) / e)\n",
    "\n",
    "import matplotlib.pyplot as plt\n",
    "import numpy as np\n",
    "\n",
    "def plot(x, y):\n",
    "    plt.plot(x, y)\n",
    "    plt.xlabel('x')\n",
    "    plt.ylabel('y')\n",
    "    plt.title('Plot of y vs x')\n",
    "    plt.grid()\n",
    "    plt.xlim(0, 2)\n",
    "    plt.show()\n",
    "\n",
    "x = np.linspace(-5, 5, 100)\n",
    "y = derivative(x)\n",
    "plot(x, y)\n"
   ]
  },
  {
   "cell_type": "code",
   "execution_count": 6,
   "id": "f89fb16c",
   "metadata": {},
   "outputs": [
    {
     "ename": "SyntaxError",
     "evalue": "invalid syntax. Perhaps you forgot a comma? (3602769960.py, line 1)",
     "output_type": "error",
     "traceback": [
      "  \u001b[36mCell\u001b[39m\u001b[36m \u001b[39m\u001b[32mIn[6]\u001b[39m\u001b[32m, line 1\u001b[39m\n\u001b[31m    \u001b[39m\u001b[31m(batchsize nlayer dfeature), (nlayer dfeatures dacts) -> (batchsize nlayer dacts)\u001b[39m\n     ^\n\u001b[31mSyntaxError\u001b[39m\u001b[31m:\u001b[39m invalid syntax. Perhaps you forgot a comma?\n"
     ]
    }
   ],
   "source": [
    "(batchsize nlayer dfeature), (nlayer dfeatures dacts) -> (batchsize nlayer dacts)\n",
    "\n",
    "\n",
    "batch tolayer dacts = \n",
    "\n",
    "for n in fromlayer:\n",
    "    for f in dfeatures:\n",
    "        add acts[batch nlayers f] * W_dec[n tolayer f dacts] * mask[fromlayer tolayer]"
   ]
  },
  {
   "cell_type": "code",
   "execution_count": null,
   "id": "a2572abf",
   "metadata": {},
   "outputs": [
    {
     "data": {
      "text/plain": [
       "tensor([[1., 1., 1., 1., 1., 1., 6., 1., 1., 1., 1., 1.],\n",
       "        [0., 1., 1., 1., 1., 1., 1., 1., 1., 1., 1., 1.],\n",
       "        [0., 0., 1., 1., 1., 1., 1., 1., 1., 1., 1., 1.],\n",
       "        [0., 0., 0., 1., 1., 1., 1., 1., 1., 1., 1., 1.],\n",
       "        [0., 0., 0., 0., 1., 1., 1., 1., 1., 1., 1., 1.],\n",
       "        [0., 0., 0., 0., 0., 1., 1., 1., 1., 1., 1., 1.],\n",
       "        [0., 0., 0., 0., 0., 0., 1., 1., 1., 1., 1., 1.],\n",
       "        [0., 0., 0., 0., 0., 0., 0., 1., 1., 1., 1., 1.],\n",
       "        [0., 0., 0., 0., 0., 0., 0., 0., 1., 1., 1., 1.],\n",
       "        [0., 0., 0., 0., 0., 0., 0., 0., 0., 1., 1., 1.],\n",
       "        [0., 0., 0., 0., 0., 0., 0., 0., 0., 0., 1., 1.],\n",
       "        [0., 0., 0., 0., 0., 0., 0., 0., 0., 0., 0., 1.]])"
      ]
     },
     "execution_count": 21,
     "metadata": {},
     "output_type": "execute_result"
    }
   ],
   "source": [
    "t = torch.triu(torch.ones(12, 12))\n",
    "t[0, 6] = 6\n",
    "t"
   ]
  },
  {
   "cell_type": "code",
   "execution_count": null,
   "id": "9e6bc2ba",
   "metadata": {},
   "outputs": [
    {
     "data": {
      "text/plain": [
       "(tensor([[3, 1, 1, 7],\n",
       "         [3, 6, 0, 1],\n",
       "         [5, 7, 6, 2]]),\n",
       " tensor([[7, 2, 3, 1, 0],\n",
       "         [3, 9, 7, 2, 6],\n",
       "         [9, 4, 5, 3, 0],\n",
       "         [8, 6, 3, 9, 8]]))"
      ]
     },
     "execution_count": 16,
     "metadata": {},
     "output_type": "execute_result"
    }
   ],
   "source": [
    "import torch\n",
    "\n",
    "a = torch.randint(0, 10, (3, 4))\n",
    "b = torch.randint(0, 10, (4, 5))\n",
    "a, b"
   ]
  },
  {
   "cell_type": "code",
   "execution_count": null,
   "id": "e9d4d3d6",
   "metadata": {},
   "outputs": [
    {
     "data": {
      "text/plain": [
       "tensor([[[ 81,  63,  54,  45,  42],\n",
       "         [ 27,  21,  18,  15,  14],\n",
       "         [ 27,  21,  18,  15,  14],\n",
       "         [189, 147, 126, 105,  98]],\n",
       "\n",
       "        [[ 81,  63,  54,  45,  42],\n",
       "         [162, 126, 108,  90,  84],\n",
       "         [  0,   0,   0,   0,   0],\n",
       "         [ 27,  21,  18,  15,  14]],\n",
       "\n",
       "        [[135, 105,  90,  75,  70],\n",
       "         [189, 147, 126, 105,  98],\n",
       "         [162, 126, 108,  90,  84],\n",
       "         [ 54,  42,  36,  30,  28]]])"
      ]
     },
     "execution_count": 18,
     "metadata": {},
     "output_type": "execute_result"
    }
   ],
   "source": [
    "from einops import einsum\n",
    "\n",
    "einsum(a, b, 'a b, c d -> a b d')"
   ]
  },
  {
   "cell_type": "markdown",
   "id": "07c8d01a",
   "metadata": {},
   "source": [
    "res[a b d] = \n",
    "    for j in range(c):\n",
    "        add a[a, b] * b[c, d]"
   ]
  },
  {
   "cell_type": "code",
   "execution_count": null,
   "id": "93c8929a",
   "metadata": {},
   "outputs": [],
   "source": []
  },
  {
   "cell_type": "code",
   "execution_count": null,
   "id": "6dce36e5",
   "metadata": {},
   "outputs": [
    {
     "data": {
      "text/plain": [
       "tensor([[1., 0., 0., 0., 0., 0., 0., 0., 0., 0., 0., 0.],\n",
       "        [1., 1., 0., 0., 0., 0., 0., 0., 0., 0., 0., 0.],\n",
       "        [1., 1., 1., 0., 0., 0., 0., 0., 0., 0., 0., 0.],\n",
       "        [1., 1., 1., 1., 0., 0., 0., 0., 0., 0., 0., 0.],\n",
       "        [1., 1., 1., 1., 1., 0., 0., 0., 0., 0., 0., 0.],\n",
       "        [1., 1., 1., 1., 1., 1., 0., 0., 0., 0., 0., 0.],\n",
       "        [1., 1., 1., 1., 1., 1., 1., 0., 0., 0., 0., 0.],\n",
       "        [1., 1., 1., 1., 1., 1., 1., 1., 0., 0., 0., 0.],\n",
       "        [1., 1., 1., 1., 1., 1., 1., 1., 1., 0., 0., 0.],\n",
       "        [1., 1., 1., 1., 1., 1., 1., 1., 1., 1., 0., 0.],\n",
       "        [1., 1., 1., 1., 1., 1., 1., 1., 1., 1., 1., 0.],\n",
       "        [1., 1., 1., 1., 1., 1., 1., 1., 1., 1., 1., 1.]])"
      ]
     },
     "execution_count": 39,
     "metadata": {},
     "output_type": "execute_result"
    }
   ],
   "source": [
    "torch.tril(torch.ones(12, 12))"
   ]
  },
  {
   "cell_type": "code",
   "execution_count": null,
   "id": "319bf381",
   "metadata": {},
   "outputs": [
    {
     "data": {
      "text/plain": [
       "(tensor([[[ 0.1049,  0.6891, -0.2221],\n",
       "          [-0.6869, -1.8075,  1.1821],\n",
       "          [ 1.9893, -0.8786,  1.2487],\n",
       "          [ 0.9046,  0.4721, -0.8072]],\n",
       " \n",
       "         [[ 0.4983,  0.7082,  0.0465],\n",
       "          [ 0.3724,  0.8592, -0.3992],\n",
       "          [-0.5043,  0.9919, -1.5528],\n",
       "          [-1.2314, -0.1028,  0.0340]]]),\n",
       " tensor([[2., 2., 2., 2.],\n",
       "         [2., 2., 2., 2.],\n",
       "         [2., 2., 2., 2.]]))"
      ]
     },
     "execution_count": 31,
     "metadata": {},
     "output_type": "execute_result"
    }
   ],
   "source": [
    "# make two small example tensors\n",
    "x = torch.randn(2, 4, 3)\n",
    "y = torch.ones(3, 4) * 2\n",
    "x, y"
   ]
  },
  {
   "cell_type": "code",
   "execution_count": null,
   "id": "5f20fa71",
   "metadata": {},
   "outputs": [
    {
     "data": {
      "text/plain": [
       "tensor([[[ 1.1438,  1.1438,  1.1438,  1.1438],\n",
       "         [-2.6246, -2.6246, -2.6246, -2.6246],\n",
       "         [ 4.7188,  4.7188,  4.7188,  4.7188],\n",
       "         [ 1.1390,  1.1390,  1.1390,  1.1390]],\n",
       "\n",
       "        [[ 2.5060,  2.5060,  2.5060,  2.5060],\n",
       "         [ 1.6648,  1.6648,  1.6648,  1.6648],\n",
       "         [-2.1303, -2.1303, -2.1303, -2.1303],\n",
       "         [-2.6004, -2.6004, -2.6004, -2.6004]]])"
      ]
     },
     "execution_count": 32,
     "metadata": {},
     "output_type": "execute_result"
    }
   ],
   "source": [
    "x @ y"
   ]
  },
  {
   "cell_type": "code",
   "execution_count": null,
   "id": "4df3345d",
   "metadata": {},
   "outputs": [
    {
     "data": {
      "text/plain": [
       "tensor([[[ 1.1438,  1.1438,  1.1438,  1.1438],\n",
       "         [-2.6246, -2.6246, -2.6246, -2.6246],\n",
       "         [ 4.7188,  4.7188,  4.7188,  4.7188],\n",
       "         [ 1.1390,  1.1390,  1.1390,  1.1390]],\n",
       "\n",
       "        [[ 2.5060,  2.5060,  2.5060,  2.5060],\n",
       "         [ 1.6648,  1.6648,  1.6648,  1.6648],\n",
       "         [-2.1303, -2.1303, -2.1303, -2.1303],\n",
       "         [-2.6004, -2.6004, -2.6004, -2.6004]]])"
      ]
     },
     "execution_count": 33,
     "metadata": {},
     "output_type": "execute_result"
    }
   ],
   "source": [
    "torch.matmul(x, y)"
   ]
  },
  {
   "cell_type": "code",
   "execution_count": null,
   "id": "39e899db",
   "metadata": {},
   "outputs": [
    {
     "data": {
      "text/plain": [
       "tensor([[[ 1.1438,  1.1438,  1.1438,  1.1438],\n",
       "         [-2.6246, -2.6246, -2.6246, -2.6246],\n",
       "         [ 4.7188,  4.7188,  4.7188,  4.7188],\n",
       "         [ 1.1390,  1.1390,  1.1390,  1.1390]],\n",
       "\n",
       "        [[ 2.5060,  2.5060,  2.5060,  2.5060],\n",
       "         [ 1.6648,  1.6648,  1.6648,  1.6648],\n",
       "         [-2.1303, -2.1303, -2.1303, -2.1303],\n",
       "         [-2.6004, -2.6004, -2.6004, -2.6004]]])"
      ]
     },
     "execution_count": 36,
     "metadata": {},
     "output_type": "execute_result"
    }
   ],
   "source": [
    "from einops import einsum\n",
    "\n",
    "einsum(x, y, 'a b c, c d -> a b d')"
   ]
  },
  {
   "cell_type": "code",
   "execution_count": null,
   "id": "39b93fb1",
   "metadata": {},
   "outputs": [],
   "source": []
  }
 ],
 "metadata": {
  "kernelspec": {
   "display_name": ".venv",
   "language": "python",
   "name": "python3"
  },
  "language_info": {
   "codemirror_mode": {
    "name": "ipython",
    "version": 3
   },
   "file_extension": ".py",
   "mimetype": "text/x-python",
   "name": "python",
   "nbconvert_exporter": "python",
   "pygments_lexer": "ipython3",
   "version": "3.12.11"
  }
 },
 "nbformat": 4,
 "nbformat_minor": 5
}
