{
  "cells": [
    {
      "cell_type": "raw",
      "metadata": {
        "vscode": {
          "languageId": "raw"
        }
      },
      "source": [
        "# 🚀 High-Throughput Activation Testing\n",
        "\n",
        "Quick tests for the new streaming and bulk APIs to achieve 30-50k samples/sec.\n"
      ]
    },
    {
      "cell_type": "code",
      "execution_count": null,
      "metadata": {},
      "outputs": [],
      "source": [
        "from client import ActivationClient\n",
        "import time\n",
        "\n",
        "client = ActivationClient()\n",
        "print(\"Client ready!\")\n"
      ]
    },
    {
      "cell_type": "code",
      "execution_count": null,
      "metadata": {},
      "outputs": [],
      "source": [
        "# Bulk API - massive batches for maximum throughput\n",
        "start_time = time.time()\n",
        "total_samples = 0\n",
        "duration = 15\n",
        "\n",
        "while time.time() - start_time < duration:\n",
        "    t, meta = client.get_activations_bulk(50000)  # 50k batch!\n",
        "    total_samples += t.shape[0]\n",
        "    \n",
        "    # Progress update\n",
        "    elapsed = time.time() - start_time\n",
        "    current_rate = total_samples / elapsed\n",
        "    print(f\"  Current rate: {current_rate:,.0f} samples/sec\")\n",
        "\n",
        "elapsed = time.time() - start_time\n",
        "rate = total_samples / elapsed\n",
        "bandwidth = (rate * 2 * 12 * 768 * 4) / (1024 * 1024)\n",
        "\n",
        "print(f\"\\nBulk API (50k batches):\")\n",
        "print(f\"  Rate: {rate:,.0f} samples/sec\")\n",
        "print(f\"  Bandwidth: {bandwidth:.1f} MB/s\")\n",
        "print(f\"  Target 30k: {'✅ ACHIEVED' if rate >= 30000 else '❌ MISSED'}\")\n",
        "print(f\"  Target 50k: {'✅ ACHIEVED' if rate >= 50000 else '❌ MISSED'}\")\n"
      ]
    },
    {
      "cell_type": "code",
      "execution_count": null,
      "metadata": {},
      "outputs": [],
      "source": []
    },
    {
      "cell_type": "code",
      "execution_count": null,
      "metadata": {},
      "outputs": [],
      "source": [
        "# Bulk API - massive batches for maximum throughput\n",
        "start_time = time.time()\n",
        "total_samples = 0\n",
        "duration = 15\n",
        "\n",
        "while time.time() - start_time < duration:\n",
        "    t, meta = client.get_activations_bulk(50000)  # 50k batch!\n",
        "    total_samples += t.shape[0]\n",
        "    \n",
        "    # Progress update\n",
        "    elapsed = time.time() - start_time\n",
        "    current_rate = total_samples / elapsed\n",
        "    print(f\"  Current rate: {current_rate:,.0f} samples/sec\")\n",
        "\n",
        "elapsed = time.time() - start_time\n",
        "rate = total_samples / elapsed\n",
        "bandwidth = (rate * 2 * 12 * 768 * 4) / (1024 * 1024)\n",
        "\n",
        "print(f\"\\nBulk API (50k batches):\")\n",
        "print(f\"  Rate: {rate:,.0f} samples/sec\")\n",
        "print(f\"  Bandwidth: {bandwidth:.1f} MB/s\")\n",
        "print(f\"  Target 30k: {'✅ ACHIEVED' if rate >= 30000 else '❌ MISSED'}\")\n",
        "print(f\"  Target 50k: {'✅ ACHIEVED' if rate >= 50000 else '❌ MISSED'}\")\n"
      ]
    },
    {
      "cell_type": "raw",
      "metadata": {},
      "source": []
    },
    {
      "cell_type": "raw",
      "metadata": {},
      "source": []
    }
  ],
  "metadata": {
    "language_info": {
      "name": "python"
    }
  },
  "nbformat": 4,
  "nbformat_minor": 2
}
