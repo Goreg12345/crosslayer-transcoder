{
 "cells": [
  {
   "cell_type": "code",
   "execution_count": 1,
   "id": "a2f0134f",
   "metadata": {},
   "outputs": [
    {
     "name": "stderr",
     "output_type": "stream",
     "text": [
      "/var/local/glang/crosslayer-transcoder/.venv/lib/python3.12/site-packages/tqdm/auto.py:21: TqdmWarning: IProgress not found. Please update jupyter and ipywidgets. See https://ipywidgets.readthedocs.io/en/stable/user_install.html\n",
      "  from .autonotebook import tqdm as notebook_tqdm\n"
     ]
    },
    {
     "name": "stdout",
     "output_type": "stream",
     "text": [
      "CUDA available: True\n",
      "Number of GPUs: 4\n",
      "GPU 0: Tesla V100-PCIE-32GB\n",
      "GPU 1: Tesla V100-PCIE-32GB\n",
      "GPU 2: Tesla V100-PCIE-32GB\n",
      "GPU 3: Tesla V100-PCIE-32GB\n"
     ]
    }
   ],
   "source": [
    "import torch\n",
    "import nnsight\n",
    "import datasets\n",
    "import text_dataset\n",
    "from torch.utils.data import DataLoader\n",
    "import h5py\n",
    "import os\n",
    "\n",
    "# Check if CUDA is available\n",
    "cuda_available = torch.cuda.is_available()\n",
    "print(\"CUDA available:\", cuda_available)\n",
    "\n",
    "if cuda_available:\n",
    "    # Number of GPUs\n",
    "    num_gpus = torch.cuda.device_count()\n",
    "    print(\"Number of GPUs:\", num_gpus)\n",
    "\n",
    "    # List each device’s name\n",
    "    for i in range(num_gpus):\n",
    "        name = torch.cuda.get_device_name(i)\n",
    "        print(f\"GPU {i}: {name}\")\n",
    "else:\n",
    "    print(\"No CUDA devices found\")"
   ]
  },
  {
   "cell_type": "code",
   "execution_count": 2,
   "id": "d4011e54",
   "metadata": {},
   "outputs": [],
   "source": [
    "model = nnsight.LanguageModel('openai-community/gpt2', device_map='auto', dispatch=True)"
   ]
  },
  {
   "cell_type": "code",
   "execution_count": 3,
   "id": "83ecfd48",
   "metadata": {},
   "outputs": [
    {
     "data": {
      "text/plain": [
       "GPT2LMHeadModel(\n",
       "  (transformer): GPT2Model(\n",
       "    (wte): Embedding(50257, 768)\n",
       "    (wpe): Embedding(1024, 768)\n",
       "    (drop): Dropout(p=0.1, inplace=False)\n",
       "    (h): ModuleList(\n",
       "      (0-11): 12 x GPT2Block(\n",
       "        (ln_1): LayerNorm((768,), eps=1e-05, elementwise_affine=True)\n",
       "        (attn): GPT2Attention(\n",
       "          (c_attn): Conv1D(nf=2304, nx=768)\n",
       "          (c_proj): Conv1D(nf=768, nx=768)\n",
       "          (attn_dropout): Dropout(p=0.1, inplace=False)\n",
       "          (resid_dropout): Dropout(p=0.1, inplace=False)\n",
       "        )\n",
       "        (ln_2): LayerNorm((768,), eps=1e-05, elementwise_affine=True)\n",
       "        (mlp): GPT2MLP(\n",
       "          (c_fc): Conv1D(nf=3072, nx=768)\n",
       "          (c_proj): Conv1D(nf=768, nx=3072)\n",
       "          (act): NewGELUActivation()\n",
       "          (dropout): Dropout(p=0.1, inplace=False)\n",
       "        )\n",
       "      )\n",
       "    )\n",
       "    (ln_f): LayerNorm((768,), eps=1e-05, elementwise_affine=True)\n",
       "  )\n",
       "  (lm_head): Linear(in_features=768, out_features=50257, bias=False)\n",
       "  (generator): Generator(\n",
       "    (streamer): Streamer()\n",
       "  )\n",
       ")"
      ]
     },
     "execution_count": 3,
     "metadata": {},
     "output_type": "execute_result"
    }
   ],
   "source": [
    "model.requires_grad_(False)"
   ]
  },
  {
   "cell_type": "code",
   "execution_count": 4,
   "id": "bc47ff3a",
   "metadata": {},
   "outputs": [],
   "source": [
    "dataset = datasets.load_dataset('Skylion007/openwebtext', split='train')"
   ]
  },
  {
   "cell_type": "code",
   "execution_count": 5,
   "id": "b6a7a615",
   "metadata": {},
   "outputs": [],
   "source": [
    "token_dataset = text_dataset.TextDataset(\n",
    "    dataset,\n",
    "    model.tokenizer,\n",
    "    40,\n",
    "    drop_last_batch=False,\n",
    "    seq_len=1023,\n",
    ")"
   ]
  },
  {
   "cell_type": "code",
   "execution_count": 6,
   "id": "7de8e1fd",
   "metadata": {},
   "outputs": [
    {
     "name": "stderr",
     "output_type": "stream",
     "text": [
      "Token indices sequence length is longer than the specified maximum sequence length for this model (1561 > 1024). Running this sequence through the model will result in indexing errors\n",
      "Token indices sequence length is longer than the specified maximum sequence length for this model (1174 > 1024). Running this sequence through the model will result in indexing errors\n",
      "Token indices sequence length is longer than the specified maximum sequence length for this model (1217 > 1024). Running this sequence through the model will result in indexing errors\n",
      "Token indices sequence length is longer than the specified maximum sequence length for this model (2459 > 1024). Running this sequence through the model will result in indexing errors\n",
      "Token indices sequence length is longer than the specified maximum sequence length for this model (2027 > 1024). Running this sequence through the model will result in indexing errors\n"
     ]
    }
   ],
   "source": [
    "text_dataset_loader = iter(\n",
    "    DataLoader(\n",
    "        token_dataset,\n",
    "        batch_size=None,\n",
    "        shuffle=False,\n",
    "        num_workers=5,\n",
    "        prefetch_factor=5,\n",
    "        worker_init_fn=text_dataset.worker_init_fn,\n",
    "    )\n",
    ")"
   ]
  },
  {
   "cell_type": "code",
   "execution_count": 7,
   "id": "610885c9",
   "metadata": {},
   "outputs": [],
   "source": [
    "def extract_activations(model, tokens):\n",
    "    with model.trace(tokens) as tracer:\n",
    "        mlp_ins = []\n",
    "        mlp_outs = []\n",
    "        for i in range(12):\n",
    "            mlp_in = model.transformer.h[i].ln_2.input.save()\n",
    "            mlp_ins.append(mlp_in)\n",
    "            mlp_out = model.transformer.h[i].mlp.output.save()\n",
    "            mlp_outs.append(mlp_out)\n",
    "    # batch layer in/out d_model\n",
    "    mlp_ins = torch.stack(mlp_ins, dim=2)\n",
    "    mlp_outs = torch.stack(mlp_outs, dim=2)\n",
    "    mlp_acts = torch.stack([mlp_ins, mlp_outs], dim=2)\n",
    "    return mlp_acts  # batch seq_len in/out n_layer d_model"
   ]
  },
  {
   "cell_type": "code",
   "execution_count": 8,
   "id": "84ffc2e4",
   "metadata": {},
   "outputs": [
    {
     "name": "stderr",
     "output_type": "stream",
     "text": [
      "You're using a GPT2TokenizerFast tokenizer. Please note that with a fast tokenizer, using the `__call__` method is faster than using a method to encode the text followed by a call to the `pad` method to get a padded encoding.\n"
     ]
    },
    {
     "name": "stdout",
     "output_type": "stream",
     "text": [
      "0.0 % done\n",
      "4.092 % done\n",
      "8.184 % done\n",
      "12.276 % done\n",
      "16.368 % done\n",
      "20.46 % done\n",
      "24.552 % done\n",
      "28.644 % done\n",
      "32.736 % done\n",
      "36.828 % done\n",
      "40.92 % done\n",
      "45.012 % done\n",
      "49.104 % done\n",
      "53.196 % done\n",
      "57.288 % done\n",
      "61.38 % done\n",
      "65.472 % done\n",
      "69.56400000000001 % done\n",
      "73.656 % done\n",
      "77.74799999999999 % done\n",
      "81.84 % done\n",
      "85.932 % done\n",
      "90.024 % done\n",
      "94.116 % done\n",
      "98.208 % done\n"
     ]
    }
   ],
   "source": [
    "store_path = '/var/local/glang/activations'\n",
    "filename = 'clt-activations.h5'\n",
    "store_size = 1000000\n",
    "actv_size = model.config.n_embd\n",
    "\n",
    "with h5py.File(os.path.join(store_path, filename), \"w\") as f:\n",
    "    h5_dataset = f.create_dataset(\n",
    "        'tensor', (store_size, 2, model.config.n_layer, model.config.n_embd), dtype='float32'\n",
    "    )\n",
    "\n",
    "    h5_pointer = 0\n",
    "    for batch in text_dataset_loader:\n",
    "        print(h5_pointer / store_size * 100, \"% done\")\n",
    "        # prepend BOS (important)\n",
    "        batch = torch.roll(batch, shifts=1, dims=1)\n",
    "        batch[:, 0] = model.config.bos_token_id\n",
    "\n",
    "        # extract activations\n",
    "        mlp_acts = extract_activations(model, batch)\n",
    "\n",
    "        # store activations\n",
    "        mlp_acts = mlp_acts.flatten(0, 1)\n",
    "        n_acts = mlp_acts.shape[0]\n",
    "\n",
    "        if h5_pointer + n_acts > store_size:\n",
    "            h5_dataset[h5_pointer:] = (\n",
    "                mlp_acts[: int(store_size - h5_pointer)].cpu().numpy()\n",
    "            )\n",
    "            break\n",
    "        else:\n",
    "            h5_dataset[h5_pointer : h5_pointer + n_acts] = mlp_acts.cpu().numpy()\n",
    "            h5_pointer += n_acts"
   ]
  },
  {
   "cell_type": "code",
   "execution_count": null,
   "id": "d1ddf89d",
   "metadata": {},
   "outputs": [],
   "source": []
  }
 ],
 "metadata": {
  "kernelspec": {
   "display_name": ".venv",
   "language": "python",
   "name": "python3"
  },
  "language_info": {
   "codemirror_mode": {
    "name": "ipython",
    "version": 3
   },
   "file_extension": ".py",
   "mimetype": "text/x-python",
   "name": "python",
   "nbconvert_exporter": "python",
   "pygments_lexer": "ipython3",
   "version": "3.12.10"
  }
 },
 "nbformat": 4,
 "nbformat_minor": 5
}
